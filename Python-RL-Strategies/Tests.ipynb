{
 "cells": [
  {
   "cell_type": "code",
   "execution_count": 1,
   "metadata": {},
   "outputs": [],
   "source": [
    "from collections import namedtuple\n",
    "import numpy as np"
   ]
  },
  {
   "cell_type": "code",
   "execution_count": 2,
   "metadata": {},
   "outputs": [],
   "source": [
    "# Define a named tuple to hold data about agents moving within a graph.\n",
    "AgentPosition = namedtuple('AgentPosition', [\n",
    "    # The node from which the agent departed or is currently located.\n",
    "    'node_from',\n",
    "    # The node to which the agent is going, or -1 if the agent is standing at 'node_from'.\n",
    "    'node_to',\n",
    "    # The remaining distance to reach the 'node_to'.\n",
    "    'distance_to_go'\n",
    "])"
   ]
  },
  {
   "cell_type": "code",
   "execution_count": 3,
   "metadata": {},
   "outputs": [],
   "source": [
    "x = [ AgentPosition(i, -1, 0) for i in range(10) ]"
   ]
  },
  {
   "cell_type": "code",
   "execution_count": 4,
   "metadata": {},
   "outputs": [
    {
     "data": {
      "text/plain": [
       "[AgentPosition(node_from=0, node_to=-1, distance_to_go=0),\n",
       " AgentPosition(node_from=1, node_to=-1, distance_to_go=0),\n",
       " AgentPosition(node_from=2, node_to=-1, distance_to_go=0),\n",
       " AgentPosition(node_from=3, node_to=-1, distance_to_go=0),\n",
       " AgentPosition(node_from=4, node_to=-1, distance_to_go=0),\n",
       " AgentPosition(node_from=5, node_to=-1, distance_to_go=0),\n",
       " AgentPosition(node_from=6, node_to=-1, distance_to_go=0),\n",
       " AgentPosition(node_from=7, node_to=-1, distance_to_go=0),\n",
       " AgentPosition(node_from=8, node_to=-1, distance_to_go=0),\n",
       " AgentPosition(node_from=9, node_to=-1, distance_to_go=0)]"
      ]
     },
     "execution_count": 4,
     "metadata": {},
     "output_type": "execute_result"
    }
   ],
   "source": [
    "x"
   ]
  },
  {
   "cell_type": "code",
   "execution_count": 5,
   "metadata": {},
   "outputs": [
    {
     "data": {
      "text/plain": [
       "[AgentPosition(node_from=0, node_to=-1, distance_to_go=0),\n",
       " AgentPosition(node_from=1, node_to=-1, distance_to_go=0),\n",
       " AgentPosition(node_from=2, node_to=-1, distance_to_go=0),\n",
       " AgentPosition(node_from=3, node_to=-1, distance_to_go=0),\n",
       " AgentPosition(node_from=4, node_to=-1, distance_to_go=0),\n",
       " AgentPosition(node_from=5, node_to=-1, distance_to_go=0),\n",
       " AgentPosition(node_from=6, node_to=-1, distance_to_go=0),\n",
       " AgentPosition(node_from=7, node_to=-1, distance_to_go=0),\n",
       " AgentPosition(node_from=8, node_to=-1, distance_to_go=0),\n",
       " AgentPosition(node_from=9, node_to=-1, distance_to_go=0)]"
      ]
     },
     "execution_count": 5,
     "metadata": {},
     "output_type": "execute_result"
    }
   ],
   "source": [
    "list(x)"
   ]
  },
  {
   "cell_type": "code",
   "execution_count": 6,
   "metadata": {},
   "outputs": [],
   "source": [
    "obs = np.zeros(shape=(10,3))"
   ]
  },
  {
   "cell_type": "code",
   "execution_count": 7,
   "metadata": {},
   "outputs": [
    {
     "data": {
      "text/plain": [
       "array([[ 0, -1,  0],\n",
       "       [ 1, -1,  0],\n",
       "       [ 2, -1,  0],\n",
       "       [ 3, -1,  0],\n",
       "       [ 4, -1,  0],\n",
       "       [ 5, -1,  0],\n",
       "       [ 6, -1,  0],\n",
       "       [ 7, -1,  0],\n",
       "       [ 8, -1,  0],\n",
       "       [ 9, -1,  0]])"
      ]
     },
     "execution_count": 7,
     "metadata": {},
     "output_type": "execute_result"
    }
   ],
   "source": [
    "np.asarray(x)"
   ]
  },
  {
   "cell_type": "code",
   "execution_count": 8,
   "metadata": {},
   "outputs": [
    {
     "data": {
      "text/plain": [
       "array([[0., 0., 0.],\n",
       "       [0., 0., 0.],\n",
       "       [0., 0., 0.],\n",
       "       [0., 0., 0.],\n",
       "       [0., 0., 0.],\n",
       "       [0., 0., 0.],\n",
       "       [0., 0., 0.],\n",
       "       [0., 0., 0.],\n",
       "       [0., 0., 0.],\n",
       "       [0., 0., 0.]])"
      ]
     },
     "execution_count": 8,
     "metadata": {},
     "output_type": "execute_result"
    }
   ],
   "source": [
    "obs"
   ]
  },
  {
   "cell_type": "code",
   "execution_count": 9,
   "metadata": {},
   "outputs": [],
   "source": [
    "# não pode!\n",
    "#x[0].node_from = 10"
   ]
  },
  {
   "cell_type": "code",
   "execution_count": 10,
   "metadata": {},
   "outputs": [
    {
     "data": {
      "text/plain": [
       "AgentPosition(node_from=10, node_to=-1, distance_to_go=0)"
      ]
     },
     "execution_count": 10,
     "metadata": {},
     "output_type": "execute_result"
    }
   ],
   "source": [
    "x[0]._replace(node_from=10)"
   ]
  },
  {
   "cell_type": "code",
   "execution_count": 11,
   "metadata": {},
   "outputs": [],
   "source": [
    "from patrolling_env.graph_env_weighted import WeightedGraphPatrolEnv\n",
    "from patrolling_agents.graph_env_wrapper_weighted import NeighborhoodFeaturesWrapper"
   ]
  },
  {
   "cell_type": "code",
   "execution_count": 12,
   "metadata": {},
   "outputs": [],
   "source": [
    "from numpy.random import choice"
   ]
  },
  {
   "cell_type": "code",
   "execution_count": 20,
   "metadata": {},
   "outputs": [],
   "source": [
    "env = WeightedGraphPatrolEnv('map_a.adj', 2)\n",
    "env = NeighborhoodFeaturesWrapper(env, 'npic', normalization='no')"
   ]
  },
  {
   "cell_type": "code",
   "execution_count": 21,
   "metadata": {},
   "outputs": [
    {
     "data": {
      "text/plain": [
       "tensor([[[0., 0., 0., 0., 0., 0., 0.],\n",
       "         [0., 0., 0., 0., 0., 0., 0.],\n",
       "         [0., 0., 0., 0., 0., 0., 0.],\n",
       "         [1., 1., 1., 1., 1., 0., 0.]],\n",
       "\n",
       "        [[0., 0., 0., 0., 0., 0., 0.],\n",
       "         [0., 0., 0., 0., 0., 0., 0.],\n",
       "         [0., 0., 0., 0., 0., 0., 0.],\n",
       "         [1., 1., 1., 1., 1., 0., 0.]]])"
      ]
     },
     "execution_count": 21,
     "metadata": {},
     "output_type": "execute_result"
    }
   ],
   "source": [
    "env.reset(initial_positions=[10,20], keep_stats=True)"
   ]
  },
  {
   "cell_type": "code",
   "execution_count": 22,
   "metadata": {},
   "outputs": [],
   "source": [
    "#choice(4, size=(2,), replace=True)"
   ]
  },
  {
   "cell_type": "code",
   "execution_count": 23,
   "metadata": {},
   "outputs": [
    {
     "name": "stdout",
     "output_type": "stream",
     "text": [
      "STEP 0\n"
     ]
    },
    {
     "data": {
      "text/plain": [
       "array([[10, 31,  5],\n",
       "       [20, 28,  2]])"
      ]
     },
     "metadata": {},
     "output_type": "display_data"
    },
    {
     "data": {
      "text/plain": [
       "tensor([[[1., 0., 0., 0., 0., 0., 0.],\n",
       "         [0., 0., 0., 0., 0., 0., 0.],\n",
       "         [1., 1., 0., 0., 0., 0., 0.],\n",
       "         [1., 1., 0., 0., 0., 0., 0.]],\n",
       "\n",
       "        [[1., 0., 0., 0., 0., 0., 0.],\n",
       "         [0., 0., 0., 0., 0., 0., 0.],\n",
       "         [1., 1., 0., 0., 0., 0., 0.],\n",
       "         [1., 1., 0., 0., 0., 0., 0.]]])"
      ]
     },
     "metadata": {},
     "output_type": "display_data"
    },
    {
     "name": "stdout",
     "output_type": "stream",
     "text": [
      "STEP 1\n"
     ]
    },
    {
     "data": {
      "text/plain": [
       "array([[10, 10,  0],\n",
       "       [20, 28,  1]])"
      ]
     },
     "metadata": {},
     "output_type": "display_data"
    },
    {
     "data": {
      "text/plain": [
       "tensor([[[0., 0., 0., 0., 0., 0., 0.],\n",
       "         [0., 0., 0., 0., 0., 0., 0.],\n",
       "         [2., 2., 2., 2., 2., 0., 0.],\n",
       "         [1., 1., 1., 1., 1., 0., 0.]],\n",
       "\n",
       "        [[1., 0., 0., 0., 0., 0., 0.],\n",
       "         [0., 0., 0., 0., 0., 0., 0.],\n",
       "         [2., 2., 0., 0., 0., 0., 0.],\n",
       "         [1., 1., 0., 0., 0., 0., 0.]]])"
      ]
     },
     "metadata": {},
     "output_type": "display_data"
    },
    {
     "name": "stdout",
     "output_type": "stream",
     "text": [
      "STEP 2\n"
     ]
    },
    {
     "data": {
      "text/plain": [
       "array([[10, 43, 13],\n",
       "       [28, 28,  0]])"
      ]
     },
     "metadata": {},
     "output_type": "display_data"
    },
    {
     "data": {
      "text/plain": [
       "tensor([[[2., 0., 0., 0., 0., 0., 0.],\n",
       "         [0., 0., 0., 0., 0., 0., 0.],\n",
       "         [1., 3., 0., 0., 0., 0., 0.],\n",
       "         [1., 1., 0., 0., 0., 0., 0.]],\n",
       "\n",
       "        [[0., 1., 0., 0., 0., 0., 0.],\n",
       "         [0., 0., 0., 0., 0., 0., 0.],\n",
       "         [3., 3., 3., 3., 3., 0., 0.],\n",
       "         [1., 1., 1., 1., 1., 0., 0.]]])"
      ]
     },
     "metadata": {},
     "output_type": "display_data"
    },
    {
     "name": "stdout",
     "output_type": "stream",
     "text": [
      "STEP 3\n"
     ]
    },
    {
     "data": {
      "text/plain": [
       "array([[10, 43, 12],\n",
       "       [28, 27, 10]])"
      ]
     },
     "metadata": {},
     "output_type": "display_data"
    },
    {
     "data": {
      "text/plain": [
       "tensor([[[2., 0., 0., 0., 0., 0., 0.],\n",
       "         [0., 0., 0., 0., 0., 0., 0.],\n",
       "         [2., 4., 0., 0., 0., 0., 0.],\n",
       "         [1., 1., 0., 0., 0., 0., 0.]],\n",
       "\n",
       "        [[1., 0., 0., 0., 0., 0., 0.],\n",
       "         [0., 0., 0., 0., 0., 0., 0.],\n",
       "         [1., 4., 0., 0., 0., 0., 0.],\n",
       "         [1., 1., 0., 0., 0., 0., 0.]]])"
      ]
     },
     "metadata": {},
     "output_type": "display_data"
    },
    {
     "name": "stdout",
     "output_type": "stream",
     "text": [
      "STEP 4\n"
     ]
    },
    {
     "data": {
      "text/plain": [
       "array([[10, 43, 11],\n",
       "       [28, 27,  9]])"
      ]
     },
     "metadata": {},
     "output_type": "display_data"
    },
    {
     "data": {
      "text/plain": [
       "tensor([[[2., 0., 0., 0., 0., 0., 0.],\n",
       "         [0., 0., 0., 0., 0., 0., 0.],\n",
       "         [3., 5., 0., 0., 0., 0., 0.],\n",
       "         [1., 1., 0., 0., 0., 0., 0.]],\n",
       "\n",
       "        [[1., 0., 0., 0., 0., 0., 0.],\n",
       "         [0., 0., 0., 0., 0., 0., 0.],\n",
       "         [2., 5., 0., 0., 0., 0., 0.],\n",
       "         [1., 1., 0., 0., 0., 0., 0.]]])"
      ]
     },
     "metadata": {},
     "output_type": "display_data"
    }
   ],
   "source": [
    "for step in range(5):\n",
    "    print(f\"STEP {step}\")\n",
    "    action = choice(4, size=(2,), replace=True) #env.action_space.sample()\n",
    "    state, reward, done, _ = env.step(action)\n",
    "    display(env.last_obs)\n",
    "    display(state)\n",
    "    "
   ]
  },
  {
   "cell_type": "code",
   "execution_count": 24,
   "metadata": {},
   "outputs": [
    {
     "data": {
      "text/plain": [
       "11"
      ]
     },
     "execution_count": 24,
     "metadata": {},
     "output_type": "execute_result"
    }
   ],
   "source": [
    "env.graph.get_weight(10,40)"
   ]
  },
  {
   "cell_type": "code",
   "execution_count": 25,
   "metadata": {},
   "outputs": [
    {
     "data": {
      "text/plain": [
       "4"
      ]
     },
     "execution_count": 25,
     "metadata": {},
     "output_type": "execute_result"
    }
   ],
   "source": [
    "env.graph.get_weight(20,8)"
   ]
  },
  {
   "cell_type": "code",
   "execution_count": 26,
   "metadata": {},
   "outputs": [
    {
     "data": {
      "text/plain": [
       "[(AgentPosition(node_from=10, node_to=10, distance_to_go=0),\n",
       "  AgentPosition(node_from=20, node_to=20, distance_to_go=0)),\n",
       " (AgentPosition(node_from=10, node_to=31, distance_to_go=5),\n",
       "  AgentPosition(node_from=20, node_to=28, distance_to_go=2)),\n",
       " (AgentPosition(node_from=10, node_to=10, distance_to_go=0),\n",
       "  AgentPosition(node_from=20, node_to=28, distance_to_go=1)),\n",
       " (AgentPosition(node_from=10, node_to=43, distance_to_go=13),\n",
       "  AgentPosition(node_from=28, node_to=28, distance_to_go=0)),\n",
       " (AgentPosition(node_from=10, node_to=43, distance_to_go=12),\n",
       "  AgentPosition(node_from=28, node_to=27, distance_to_go=10)),\n",
       " (AgentPosition(node_from=10, node_to=43, distance_to_go=11),\n",
       "  AgentPosition(node_from=28, node_to=27, distance_to_go=9))]"
      ]
     },
     "execution_count": 26,
     "metadata": {},
     "output_type": "execute_result"
    }
   ],
   "source": [
    "env.get_stats()"
   ]
  },
  {
   "cell_type": "code",
   "execution_count": null,
   "metadata": {},
   "outputs": [],
   "source": []
  }
 ],
 "metadata": {
  "kernelspec": {
   "display_name": "rl23",
   "language": "python",
   "name": "python3"
  },
  "language_info": {
   "codemirror_mode": {
    "name": "ipython",
    "version": 3
   },
   "file_extension": ".py",
   "mimetype": "text/x-python",
   "name": "python",
   "nbconvert_exporter": "python",
   "pygments_lexer": "ipython3",
   "version": "3.10.13"
  }
 },
 "nbformat": 4,
 "nbformat_minor": 2
}
